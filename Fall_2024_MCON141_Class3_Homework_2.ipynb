{
  "cells": [
    {
      "cell_type": "markdown",
      "metadata": {
        "id": "view-in-github",
        "colab_type": "text"
      },
      "source": [
        "<a href=\"https://colab.research.google.com/github/rwiederblank/module3_Ruchama_Wiederblank/blob/main/Fall_2024_MCON141_Class3_Homework_2.ipynb\" target=\"_parent\"><img src=\"https://colab.research.google.com/assets/colab-badge.svg\" alt=\"Open In Colab\"/></a>"
      ]
    },
    {
      "cell_type": "markdown",
      "id": "cd91769c",
      "metadata": {
        "id": "cd91769c"
      },
      "source": [
        "\n",
        "# MCON 141 — Class 3 Homework\n",
        "\n",
        "Welcome! 🌟 This homework is designed to help you feel confident with **decision structures** and **boolean logic**.  \n",
        "You’ll use `if / elif / else`, nested `if` where helpful, and the operators `and`, `or`, and `not`.  \n",
        "We’re **not** using loops yet (`while`, `for`) — everything here can be done with straight‑line code.\n",
        "\n",
        "Additionally, although I am giving you this homework within Jupyter, feel free to work on this in an IDE such as IDLE or PyCharm, and submit the answers here.\n",
        "\n",
        "### How to approach this set\n",
        "- Work one problem at a time. Run your cell, read the output, and refine.\n",
        "- Be kind to yourself — it’s normal to try, run, and adjust as you go.\n",
        "- When taking user input, please **validate it** with `try/except` and use `raise ValueError` for out‑of‑range or invalid options.\n",
        "- Use f‑strings for friendly, clear messages (e.g., `print(f\"Final price: ${price:.2f}\")`).\n",
        "\n",
        "If you get stuck, read the **gentle hints** included after many prompts. You’ve got this! 💪\n"
      ]
    },
    {
      "cell_type": "markdown",
      "id": "6af8aabf",
      "metadata": {
        "id": "6af8aabf"
      },
      "source": [
        "\n",
        "**Validation rules (for all problems)**  \n",
        "- If a numeric input is not a number → handle with `except ValueError`.\n",
        "- If a numeric input is outside the allowed range → `raise ValueError(\"...\")` and handle it.\n",
        "- If a text input isn’t one of the allowed choices (e.g., `y/n`, or `mon..sun`) → `raise ValueError(\"expected ...\")` and handle it.\n",
        "- Normalize text inputs with `.strip().lower()`.\n"
      ]
    },
    {
      "cell_type": "markdown",
      "id": "ba273b62",
      "metadata": {
        "id": "ba273b62"
      },
      "source": [
        "\n",
        "## 1) Free shipping gate\n",
        "\n",
        "**Prompt**  \n",
        "Ask for **order_total** (float) and **membership** (`\"y\"` / `\"n\"`).  \n",
        "Free shipping rules:  \n",
        "- Free if `order_total >= 60` **or** membership is `\"y\"` **and** `order_total >= 40`.  \n",
        "- Otherwise, no free shipping.\n",
        "\n",
        "**Your task**  \n",
        "- Validate inputs (see rules above).  \n",
        "- Print exactly `\"Free shipping\"` or `\"No free shipping\"`.  \n",
        "\n",
        "*Gentle hint:* It can help to create a boolean like `is_member = (membership == \"y\")` before your `if`.\n"
      ]
    },
    {
      "cell_type": "code",
      "execution_count": null,
      "id": "d9d440a9",
      "metadata": {
        "colab": {
          "base_uri": "https://localhost:8080/"
        },
        "id": "d9d440a9",
        "outputId": "0f193c30-4761-4dfe-9c2c-95b309eb2780"
      },
      "outputs": [
        {
          "output_type": "stream",
          "name": "stdout",
          "text": [
            "Order total: 41\n",
            "Membership? (y/n)y\n",
            "Free shipping\n"
          ]
        }
      ],
      "source": [
        "\n",
        "# YOUR CODE HERE\n",
        "# 1) Read inputs (order_total, membership) with validation.\n",
        "# 2) Decide based on the rule; print the exact message.\n",
        "try:\n",
        "  order_total = float(input('Order total: '))\n",
        "  membership = input('Membership? (y/n)')\n",
        "  if membership != 'y' and membership != 'n':\n",
        "    raise ValueError(\"Expected y/n\")\n",
        "  is_member = (membership == \"y\")\n",
        "\n",
        "  if order_total >= 60 or (is_member and order_total >= 40):\n",
        "    print('Free shipping')\n",
        "  else:\n",
        "    print('No free shipping')\n",
        "except ValueError:\n",
        "  print('Invalid input.')"
      ]
    },
    {
      "cell_type": "markdown",
      "id": "2b6be3c3",
      "metadata": {
        "id": "2b6be3c3"
      },
      "source": [
        "\n",
        "## 2) Triangle validity & type\n",
        "\n",
        "**Prompt**  \n",
        "Ask for three side lengths **a**, **b**, **c** (floats).  \n",
        "- First, validate that all are **> 0**.  \n",
        "- Then check triangle inequality: `a + b > c`, `a + c > b`, `b + c > a`.  \n",
        "  - If invalid → print `\"Not a triangle\"` and stop.  \n",
        "- If valid, print **exactly one** of: `\"Equilateral\"`, `\"Isosceles\"`, `\"Scalene\"`.\n",
        "\n",
        "**Your task**  \n",
        "- Validate numeric conversion and positivity.  \n",
        "- Implement the checks carefully and choose exactly one type to print.\n",
        "\n",
        "*Gentle hint:* Check validity first; only classify if valid.\n",
        "\n",
        "**Support for triangles **\n",
        "\n",
        "A triangle is Equilateral if All three sides are equal:\n",
        "a == b == c\n",
        "\n",
        "Isosceles : Exactly two sides are equal:\n",
        "(a == b or a == c or b == c) but not all three equal\n",
        "\n",
        "Scalene : All three sides are different:\n",
        "a != b and a != c and b != c\n",
        "\n",
        "\n"
      ]
    },
    {
      "cell_type": "code",
      "execution_count": null,
      "id": "61ea08e9",
      "metadata": {
        "colab": {
          "base_uri": "https://localhost:8080/"
        },
        "id": "61ea08e9",
        "outputId": "38a93b74-8e26-49a0-93f8-4c178dbba352"
      },
      "outputs": [
        {
          "output_type": "stream",
          "name": "stdout",
          "text": [
            "Enter side length: 6\n",
            "Enter side length: 7\n",
            "Enter side length: 8\n",
            "Scalene\n"
          ]
        }
      ],
      "source": [
        "\n",
        "# YOUR CODE HERE\n",
        "# 1) Inputs a, b, c with validation\n",
        "# 2) If invalid -> print(\"Not a triangle\")\n",
        "# 3) Else -> choose exactly one triangle type\n",
        "try:\n",
        "  a = int(input(\"Enter side length: \"))\n",
        "  b = int(input(\"Enter side length: \"))\n",
        "  c = int(input(\"Enter side length: \"))\n",
        "  if a <= 0 or b <= 0 or c <= 0:\n",
        "    raise ValueError\n",
        "\n",
        "  if a + b > c and a + c > b and b + c > a:\n",
        "    if a == b == c:\n",
        "      print('Equilateral')\n",
        "    elif a == b or a == c or b == c:\n",
        "      print('Isosceles')\n",
        "    else:\n",
        "      print('Scalene')\n",
        "  else:\n",
        "    print('Not a triangle')\n",
        "except ValueError:\n",
        "  print('Invalid input. Must be an integer greater than 0.')"
      ]
    },
    {
      "cell_type": "markdown",
      "id": "38d6cf49",
      "metadata": {
        "id": "38d6cf49"
      },
      "source": [
        "\n",
        "## 3) Library access hours with membership override\n",
        "\n",
        "**Prompt**  \n",
        "Ask for **hour** (int, 0–23) and **member** (`\"y\"`/`\"n\"`).  \n",
        "- Open to **everyone** from 9–20 inclusive.  \n",
        "- Open to **members only** at hours 7–8 and 21–22.  \n",
        "- Otherwise, **Closed**.\n",
        "\n",
        "**Your task**  \n",
        "- Validate inputs.  \n",
        "- Print **exactly one** of: `\"Open to all\"`, `\"Open to members\"`, `\"Closed\"`.\n",
        "\n",
        "*Gentle hint:* Think of this as a small decision tree. Check the “open to all” window first.\n"
      ]
    },
    {
      "cell_type": "code",
      "execution_count": null,
      "id": "ea753771",
      "metadata": {
        "colab": {
          "base_uri": "https://localhost:8080/"
        },
        "id": "ea753771",
        "outputId": "c659767f-e065-411f-8642-27d95574768f"
      },
      "outputs": [
        {
          "output_type": "stream",
          "name": "stdout",
          "text": [
            "Enter hour: 0 - 23 17\n",
            "Member? (y/n) n\n",
            "Open to all\n"
          ]
        }
      ],
      "source": [
        "\n",
        "# YOUR CODE HERE\n",
        "# 1) Validate hour and member\n",
        "# 2) Decide and print one of the three messages\n",
        "try:\n",
        "  hour = int(input('Enter hour: 0 - 23 '))\n",
        "  if hour < 0 or hour > 23:\n",
        "    raise ValueError('Hour not in range, must be between 0 and 23.')\n",
        "  member = input('Member? (y/n) ')\n",
        "  if member != 'y' and member != 'n':\n",
        "    raise ValueError ('Expected y/n.')\n",
        "\n",
        "\n",
        "  if hour >= 9 and hour <= 20:\n",
        "    print('Open to all')\n",
        "  elif (hour == 7 or hour == 8 or hour == 21 or hour == 22) and member == 'y':\n",
        "    print('Open to members')\n",
        "  else:\n",
        "    print('Closed')\n",
        "except ValueError:\n",
        "  print('Invalid input')"
      ]
    },
    {
      "cell_type": "markdown",
      "id": "bbd08bb4",
      "metadata": {
        "id": "bbd08bb4"
      },
      "source": [
        "\n",
        "## 4) Temperature banding\n",
        "\n",
        "**Prompt**  \n",
        "Ask for **temp** (int) and categorize into exactly one label:  \n",
        "- `temp <= 0` → `\"Freezing\"`  \n",
        "- `1–15` → `\"Cold\"`  \n",
        "- `16–25` → `\"Mild\"`  \n",
        "- `26–32` → `\"Warm\"`  \n",
        "- `>= 33` → `\"Hot\"`\n",
        "\n",
        "**Your task**  \n",
        "- Validate integer input.  \n",
        "- Make sure **only one** label is printed.\n",
        "\n",
        "*Gentle hint:* Use `elif` to avoid overlapping outputs.\n"
      ]
    },
    {
      "cell_type": "code",
      "execution_count": null,
      "id": "5986f534",
      "metadata": {
        "colab": {
          "base_uri": "https://localhost:8080/"
        },
        "id": "5986f534",
        "outputId": "1fa11ad7-ae1f-43a3-c12b-cfbdf82979ce"
      },
      "outputs": [
        {
          "output_type": "stream",
          "name": "stdout",
          "text": [
            "Temperature: 66\n",
            "Hot\n"
          ]
        }
      ],
      "source": [
        "\n",
        "# YOUR CODE HERE\n",
        "# 1) Validate temp (int)\n",
        "# 2) Choose exactly one label to print\n",
        "try:\n",
        "  temp = int(input('Temperature: '))\n",
        "\n",
        "  if temp <= 0:\n",
        "    print('Freezing')\n",
        "  elif temp <= 15:\n",
        "    print('Cold')\n",
        "  elif temp <= 25:\n",
        "    print('Mild')\n",
        "  elif temp <= 32:\n",
        "    print('Warm')\n",
        "  else:\n",
        "    print('Hot')\n",
        "except ValueError:\n",
        "  print('Invalid input. Please enter an integer.')\n"
      ]
    },
    {
      "cell_type": "markdown",
      "id": "904b40ac",
      "metadata": {
        "id": "904b40ac"
      },
      "source": [
        "\n",
        "## 5) Street parking rules\n",
        "\n",
        "**Prompt**  \n",
        "Ask for **day** (`\"mon\"...\"sun\"`), **hour** (0–23), and **holiday** (`\"y\"/\"n\"`).  \n",
        "- **No parking** on weekdays during rush hours: 7–10 and 16–19, **unless** it is a holiday.  \n",
        "- Parking is allowed at all other times (including weekends).\n",
        "\n",
        "**Your task**  \n",
        "- Validate inputs.  \n",
        "- Print exactly `\"Parking allowed\"` **or** `\"No parking\"`.\n",
        "\n",
        "*Gentle hint:* Consider booleans like `is_weekday = day in {...}` and `rush = (7 <= hour <= 10) or (16 <= hour <= 19)`.\n"
      ]
    },
    {
      "cell_type": "code",
      "execution_count": 48,
      "id": "ccbba117",
      "metadata": {
        "colab": {
          "base_uri": "https://localhost:8080/"
        },
        "id": "ccbba117",
        "outputId": "78117302-d06b-415e-b537-1fcf09fe824a"
      },
      "outputs": [
        {
          "output_type": "stream",
          "name": "stdout",
          "text": [
            "Day of the week: friday\n",
            "Hour: 17\n",
            "Holiday? n\n",
            "No parking\n"
          ]
        }
      ],
      "source": [
        "\n",
        "# YOUR CODE HERE\n",
        "# 1) Validate day/hour/holiday\n",
        "# 2) Decide and print the exact message\n",
        "try:\n",
        "  day = input(\"Day of the week: \")\n",
        "  if day != 'sunday' and day != 'monday' and day != 'tuesday' and day != 'wednsday' and day != 'thursday' and day != 'friday' and day != 'saturday':\n",
        "    raise ValueError('Please enter a day of the week')\n",
        "  hour = int(input(\"Hour: \"))\n",
        "  if hour < 0 or hour > 23:\n",
        "    raise ValueError('Hour not in range, must be between 0 and 23.')\n",
        "  holiday = input(\"Holiday? \")\n",
        "  if holiday != 'y' and holiday != 'n':\n",
        "    raise ValueError('Expected y / n ')\n",
        "\n",
        "  is_weekend = day == 'satuday' or day == 'sunday'\n",
        "  is_holiday = holiday == 'y'\n",
        "\n",
        "  if (hour >= 7 and hour <= 10) or (hour >= 16 and hour <= 19):\n",
        "    if is_weekend == False and is_holiday == False:\n",
        "      print('No parking')\n",
        "    else:\n",
        "      print('Parking allowed')\n",
        "  else:\n",
        "    print('Parking allowed')\n",
        "\n",
        "except ValueError:\n",
        "  print('Invalid input.')\n"
      ]
    },
    {
      "cell_type": "markdown",
      "id": "5dc3c3fa",
      "metadata": {
        "id": "5dc3c3fa"
      },
      "source": [
        "\n",
        "## 6) Grade with curve boundaries\n",
        "\n",
        "**Prompt**  \n",
        "Ask for **raw** (float, 0–100) and **curve** (int, can be negative).  \n",
        "- Compute `final = raw + curve`.  \n",
        "- Clamp to [0, 100].  \n",
        "- Print a single letter:\n",
        "  - `>= 90`: `\"A\"`\n",
        "  - `80–89`: `\"B\"`\n",
        "  - `70–79`: `\"C\"`\n",
        "  - `60–69`: `\"D\"`\n",
        "  - else: `\"F\"`\n",
        "\n",
        "**Your task**  \n",
        "- Validate inputs; clamp carefully; print one letter.\n",
        "\n",
        "*Gentle hint:* After adding, use small checks like `if final < 0: final = 0`.\n"
      ]
    },
    {
      "cell_type": "code",
      "execution_count": 45,
      "id": "0598e54f",
      "metadata": {
        "id": "0598e54f",
        "colab": {
          "base_uri": "https://localhost:8080/"
        },
        "outputId": "aaab5e99-2797-4d1f-cc5f-02094c3a2745"
      },
      "outputs": [
        {
          "output_type": "stream",
          "name": "stdout",
          "text": [
            "Enter grade: 67\n",
            "Enter curve: 4\n",
            "C\n"
          ]
        }
      ],
      "source": [
        "\n",
        "# YOUR CODE HERE\n",
        "# 1) Validate raw/curve\n",
        "# 2) Clamp 0..100\n",
        "# 3) Print one letter\n",
        "try:\n",
        "  raw = float(input(\"Enter grade: \"))\n",
        "  if raw< 0 or raw > 100:\n",
        "    raise ValueError('Please enter a grade between 0 and 100')\n",
        "  curve = int(input('Enter curve: '))\n",
        "\n",
        "  final = raw + curve\n",
        "\n",
        "  if final < 0:\n",
        "    final == 0\n",
        "  if final > 100:\n",
        "    final == 100\n",
        "\n",
        "  if final >= 90:\n",
        "    print('A')\n",
        "  elif final >= 80:\n",
        "    print('B')\n",
        "  elif final >= 70:\n",
        "    print('C')\n",
        "  elif final >= 60:\n",
        "    print('D')\n",
        "  else:\n",
        "    print('F')\n",
        "\n",
        "except ValueError:\n",
        "  print('Invalid input.')\n"
      ]
    },
    {
      "cell_type": "markdown",
      "id": "87c88705",
      "metadata": {
        "id": "87c88705"
      },
      "source": [
        "\n",
        "## 7) Palindrome (straight‑line, no loops)\n",
        "\n",
        "**Prompt**  \n",
        "Ask for **text** (string). Normalize by stripping outer spaces and lowercasing.  \n",
        "If the text reads the same forwards and backwards, print `\"Palindrome\"`; otherwise, print `\"Not palindrome\"`.\n",
        "\n",
        "**Your task**  \n",
        "- No loops needed; slicing is okay (`[::-1]`).  \n",
        "- Keep messages exact.\n",
        "\n",
        "*Gentle hint:* Compare the normalized string to its reversed version.\n",
        "\n",
        "** Support **\n",
        "A palindrome check can be done with just string basics:\n",
        "\n",
        "- .strip() → remove spaces at the edges\n",
        "\n",
        "- .lower() → normalize case\n",
        "\n",
        "- [::-1] → reverses the string\n",
        "- example of string reversal :  my_str == \"cat\" then my_str[::-1] == \"tac\"\n",
        "- my_str_reveresed = my_str[::-1]\n"
      ]
    },
    {
      "cell_type": "code",
      "execution_count": 9,
      "id": "f3a3d82a",
      "metadata": {
        "colab": {
          "base_uri": "https://localhost:8080/"
        },
        "id": "f3a3d82a",
        "outputId": "615a44ac-913c-444a-aea8-f533fcf85db1"
      },
      "outputs": [
        {
          "output_type": "stream",
          "name": "stdout",
          "text": [
            "Enter a string: mom\n",
            "Palindrome\n"
          ]
        }
      ],
      "source": [
        "\n",
        "# YOUR CODE HERE\n",
        "# 1) Read and normalize text\n",
        "# 2) Compare to reversed and print the message\n",
        "my_text = input('Enter a string: ').lower().strip()\n",
        "#print(my_text)\n",
        "reverse_text = my_text[::-1]\n",
        "#print(reverse_text)\n",
        "if my_text == reverse_text:\n",
        "  print('Palindrome')\n",
        "else:\n",
        "  print(\"Not palindrome\")"
      ]
    },
    {
      "cell_type": "markdown",
      "id": "2953a6f6",
      "metadata": {
        "id": "2953a6f6"
      },
      "source": [
        "\n",
        "## 8) Function practice — `is_palindrome(text) -> bool\n",
        "\n",
        "You’ll write a **small** helper function, then use it.  \n",
        "It’s okay if functions are new — follow the scaffold and you’ll be fine!\n",
        "\n",
        "**Steps**\n",
        "1. Implement `is_palindrome(text)` that returns `True` if `text.strip().lower()` equals its reversed version, else `False`.\n",
        "2. Then, outside the function, prompt the user and print `\"Palindrome\"` or `\"Not palindrome\"` based on the function’s result.\n",
        "\n",
        "*Gentle hint:* Start by writing the function body with a placeholder `return False`, then improve it.\n"
      ]
    },
    {
      "cell_type": "code",
      "execution_count": 18,
      "id": "b9986d4a",
      "metadata": {
        "id": "b9986d4a",
        "colab": {
          "base_uri": "https://localhost:8080/"
        },
        "outputId": "5e30ffa1-33d7-431f-b0cd-3732a0c5c2c5"
      },
      "outputs": [
        {
          "name": "stdout",
          "output_type": "stream",
          "text": [
            "Enter a string: hannah\n"
          ]
        },
        {
          "output_type": "execute_result",
          "data": {
            "text/plain": [
              "True"
            ]
          },
          "metadata": {},
          "execution_count": 18
        }
      ],
      "source": [
        "\n",
        "def is_palindrome(text):\n",
        "    \"\"\"Return True if text is a palindrome after strip+lower, else False.\"\"\"\n",
        "    # TODO: normalize text (strip + lower)\n",
        "    text = text.strip().lower()\n",
        "    # TODO: compare with reversed (slicing is ok)\n",
        "    reverse_text = text[::-1]\n",
        "    if text == reverse_text:\n",
        "      return True\n",
        "    else:\n",
        "      return False\n",
        "    # TODO: return True/False\n",
        "\n",
        "\n",
        "# YOUR CODE HERE\n",
        "# 1) Prompt for input\n",
        "# 2) Call is_palindrome and print the correct message\n",
        "my_text = input('Enter a string: ')\n",
        "is_palindrome(my_text)\n",
        "\n"
      ]
    },
    {
      "cell_type": "markdown",
      "id": "8e72d89c",
      "metadata": {
        "id": "8e72d89c"
      },
      "source": [
        "\n",
        "## 9) Function practice — `parking_allowed(day, hour, holiday) -> bool`\n",
        "\n",
        "Let’s package the parking policy into a small function and then use it.\n",
        "\n",
        "**Policy reminder**  \n",
        "- **No parking** on weekdays during 7–10 and 16–19, **unless** it is a holiday.  \n",
        "- Parking is allowed at all other times (including weekends).\n",
        "\n",
        "**Steps**\n",
        "1. Implement `parking_allowed(day, hour, holiday)` so it returns `True` when parking is allowed, `False` otherwise.\n",
        "2. Then prompt for inputs, **validate them**, and print `\"Parking allowed\"` or `\"No parking\"`.\n",
        "\n",
        "*Gentle hint:* Booleans like `is_weekday` and `rush` make your `if` very readable.\n"
      ]
    },
    {
      "cell_type": "code",
      "execution_count": 46,
      "id": "11240051",
      "metadata": {
        "id": "11240051",
        "colab": {
          "base_uri": "https://localhost:8080/"
        },
        "outputId": "1bdbed79-add0-462b-d94f-320f405a75d0"
      },
      "outputs": [
        {
          "output_type": "stream",
          "name": "stdout",
          "text": [
            "Day of the week: monday\n",
            "Hour: 5\n",
            "Holiday? n\n",
            "Parking allowed\n"
          ]
        }
      ],
      "source": [
        "\n",
        "def parking_allowed(day, hour, holiday):\n",
        "    \"\"\"Return True if parking is allowed under the policy; else False.\n",
        "    day: 'mon'..'sun', hour: 0..23, holiday: 'y' or 'n'\n",
        "    \"\"\"\n",
        "    # TODO: implement using and/or/not\n",
        "\n",
        "    is_weekend = day == 'satuday' or day == 'sunday'\n",
        "    is_holiday = holiday == 'y'\n",
        "\n",
        "    if (hour >= 7 and hour <= 10) or (hour >= 16 and hour <= 19):\n",
        "      if is_weekend == False and is_holiday == False:\n",
        "        return False\n",
        "      else:\n",
        "        return True\n",
        "    else:\n",
        "      return True\n",
        "\n",
        "\n",
        "\n",
        "# YOUR CODE HERE\n",
        "# 1) Prompt and validate inputs\n",
        "try:\n",
        "    day = input(\"Day of the week: \")\n",
        "    if day != 'sunday' and day != 'monday' and day != 'tuesday' and day != 'wednsday' and day != 'thursday' and day != 'friday' and day != 'saturday':\n",
        "      raise ValueError('Please enter a day of the week')\n",
        "    hour = int(input(\"Hour: \"))\n",
        "    if hour < 0 or hour > 23:\n",
        "      raise ValueError('Hour not in range, must be between 0 and 23.')\n",
        "    holiday = input(\"Holiday? \")\n",
        "    if holiday != 'y' and holiday != 'n':\n",
        "      raise ValueError('Expected y / n ')\n",
        "except ValueError:\n",
        "  print('Invalid input.')\n",
        "\n",
        "\n",
        "if(parking_allowed(day, hour, holiday) == True):\n",
        "  print('Parking allowed')\n",
        "else:\n",
        "  print('No parking')\n",
        "\n",
        "# 2) Call parking_allowed and print the exact message\n"
      ]
    },
    {
      "cell_type": "markdown",
      "id": "8a8cef39",
      "metadata": {
        "id": "8a8cef39"
      },
      "source": [
        "\n",
        "## 10) Mini‑Project (No Loops): Cinema Entry & Pricing Decision Engine\n",
        "\n",
        "This is a friendly, single‑run decision engine — no loops needed. You’ll determine **entry permission** and a **final ticket price** based on the rules.\n",
        "\n",
        "**Inputs to gather and validate (in this order)**  \n",
        "1. **age** (int, 0–120)  \n",
        "2. **day** (`mon, tue, wed, thu, fri, sat, sun`)  \n",
        "3. **hour** (int 0–23) — cinema is open to **everyone** 10–22 inclusive; **members only** at 9 and 23  \n",
        "4. **holiday** (`y/n`)  \n",
        "5. **member** (`y/n`)  \n",
        "6. **student** (`y/n`)  \n",
        "7. **base_price** (float ≥ 0)  \n",
        "8. **coupon10** (`y/n`)  \n",
        "9. **coupon15** (`y/n`)\n",
        "\n",
        "**Access Policy**  \n",
        "- If holiday → `\"Entry allowed\"` any time.  \n",
        "- Otherwise:  \n",
        "  - 10–22 → `\"Entry allowed\"`  \n",
        "  - 9 or 23 → `\"Entry allowed (members only hours)\"` **if** member is `\"y\"`; otherwise `\"Closed\"`  \n",
        "  - All other hours → `\"Closed\"`  \n",
        "If closed, print the access message and stop.\n",
        "\n",
        "**Discounts (apply at most one in this order)**  \n",
        "1) If both coupons are `\"y\"` → print `\"Invalid: cannot stack\"` and **do not use any coupon** (you may still use age/student/member rule below).  \n",
        "2) Else if `coupon15 == \"y\"` and `base_price >= 80` → 15% off.  \n",
        "3) Else if `coupon10 == \"y\"` and `base_price >= 50` → 10% off.  \n",
        "4) Else if age < 12 or age >= 65 → 20% off.  \n",
        "5) Else if student == \"y\" or member == \"y\" → 10% off.  \n",
        "6) Else → no discount.\n",
        "\n",
        "**Output**  \n",
        "- Print the entry result first. If allowed, print a **pricing summary** (base, discount applied, final) with two decimals using f‑strings.\n",
        "\n",
        "*Gentle hints*  \n",
        "- Create helpful booleans like `is_holiday`, `is_member`, etc.  \n",
        "- Use `f\"{price:.2f}\"` for two decimal places.  \n",
        "- Take your time, and test a few scenarios to see each branch work.\n"
      ]
    },
    {
      "cell_type": "code",
      "execution_count": 44,
      "id": "b51d7e1b",
      "metadata": {
        "id": "b51d7e1b",
        "colab": {
          "base_uri": "https://localhost:8080/"
        },
        "outputId": "457f0e5a-e0fd-4a85-9650-9699f9273893"
      },
      "outputs": [
        {
          "output_type": "stream",
          "name": "stdout",
          "text": [
            "Enter age: 17\n",
            "Day of the week: monday\n",
            "Hour: 8\n",
            "Holiday? (y/n)y\n",
            "Member? (y/n)y\n",
            "Student? (y/n)n\n",
            "Base price: 99\n",
            "Coupon 10? (y/n)n\n",
            "Coupon 15? (y/n)y\n",
            "Entry allowed\n",
            "Price: $84.15\n"
          ]
        }
      ],
      "source": [
        "\n",
        "# YOUR CODE HERE\n",
        "# 1) Gather and validate inputs (try/except + raise ValueError for issues)\n",
        "# 2) Decide entry\n",
        "# 3) If allowed, apply the discount rules in the given order (at most one discount category)\n",
        "# 4) Print a clear summary with two-decimal formatting\n",
        "\n",
        "try:\n",
        "  age = int(input('Enter age: '))\n",
        "  if age < 0 or age > 120:\n",
        "    raise ValueError('Must be a valid age between 0 and 120')\n",
        "  day = input(\"Day of the week: \")\n",
        "  if day != 'sunday' and day != 'monday' and day != 'tuesday' and day != 'wednsday' and day != 'thursday' and day != 'friday' and day != 'saturday':\n",
        "    raise ValueError('Please enter a day of the week')\n",
        "  hour = int(input(\"Hour: \"))\n",
        "  if hour < 0 or hour > 23:\n",
        "    raise ValueError('Hour not in range, must be between 0 and 23.')\n",
        "  holiday = input(\"Holiday? (y/n)\")\n",
        "  if holiday != 'y' and holiday != 'n':\n",
        "    raise ValueError('Expected y / n ')\n",
        "  is_holiday = holiday == 'y'\n",
        "  member = input(\"Member? (y/n)\")\n",
        "  if member != 'y' and member != 'n':\n",
        "    raise ValueError('Expected y / n ')\n",
        "  is_member = member == 'y'\n",
        "  student = input(\"Student? (y/n)\")\n",
        "  if student != 'y' and student != 'n':\n",
        "    raise ValueError('Expected y / n ')\n",
        "  is_student = student == 'y'\n",
        "  base_price = float(input('Base price: '))\n",
        "  if base_price <= 0:\n",
        "    raise ValueError('Price should be greater than 0')\n",
        "  coupon10 = input(\"Coupon 10? (y/n)\")\n",
        "  if coupon10 != 'y' and coupon10 != 'n':\n",
        "    raise ValueError('Expected y / n ')\n",
        "  coupon15 = input(\"Coupon 15? (y/n)\")\n",
        "  if coupon15 != 'y' and coupon15 != 'n':\n",
        "    raise ValueError('Expected y / n ')\n",
        "\n",
        "  is_weekend = day == 'satuday' or day == 'sunday'\n",
        "\n",
        "  price = base_price\n",
        "  entry = False\n",
        "\n",
        "  if is_holiday:\n",
        "   entry = True\n",
        "  else:\n",
        "    if age >= 10 and age <= 22:\n",
        "      entry = True\n",
        "    elif age == 9 or age == 23 and is_member:\n",
        "      entry = True\n",
        "    else:\n",
        "      entry = False\n",
        "\n",
        "  if entry:\n",
        "    print('Entry allowed')\n",
        "    if coupon10 == 'y' and coupon15 == 'y':\n",
        "      print(\"Invalid: cannot stack\")\n",
        "    elif coupon15 == 'y' and price >= 80:\n",
        "      price = price - (price*.15)\n",
        "    elif coupon10 == 'y' and price >= 50:\n",
        "      price = price - (price * .10)\n",
        "    elif age < 12 or age >= 65:\n",
        "      price = price - (price * .20)\n",
        "    elif student == 'y' or member == 'y':\n",
        "      price = price - (price * .10)\n",
        "    print(f'Price: ${round(price, 2)}')\n",
        "\n",
        "  else:\n",
        "    print('Closed')\n",
        "\n",
        "\n",
        "except ValueError:\n",
        "  print('Invalid input.')\n"
      ]
    },
    {
      "cell_type": "markdown",
      "id": "ca529e29",
      "metadata": {
        "id": "ca529e29"
      },
      "source": [
        "\n",
        "---\n",
        "\n",
        "### You’re doing great 💫\n",
        "Remember: learning conditionals is about clear thinking and small steps.  \n",
        "Celebrate each little win, and don’t hesitate to re-run cells as you refine your code.\n"
      ]
    }
  ],
  "metadata": {
    "kernelspec": {
      "display_name": "Python 3",
      "language": "python",
      "name": "python3"
    },
    "language_info": {
      "name": "python",
      "version": "3.x"
    },
    "colab": {
      "provenance": [],
      "include_colab_link": true
    }
  },
  "nbformat": 4,
  "nbformat_minor": 5
}