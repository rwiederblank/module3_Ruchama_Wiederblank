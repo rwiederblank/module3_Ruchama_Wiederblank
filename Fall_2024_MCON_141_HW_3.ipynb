{
  "nbformat": 4,
  "nbformat_minor": 0,
  "metadata": {
    "colab": {
      "provenance": []
    },
    "kernelspec": {
      "name": "python3",
      "display_name": "Python 3"
    },
    "language_info": {
      "name": "python"
    }
  },
  "cells": [
    {
      "cell_type": "markdown",
      "source": [
        "# Instructions for homework 3\n",
        "## (+ 2 points extra credit possible)\n",
        "\n",
        "In this notebook, we will work on Class 3 concepts.\n",
        "\n",
        "## Expectation for Input Handling\n",
        "\n",
        "For any exercise that requires user input, you must:\n",
        "\n",
        "Place your input code inside a try / except block.\n",
        "\n",
        "If the user enters something invalid (not an integer, for example), your program should catch the error and print a helpful message.\n",
        "\n",
        "Use ValueError in the except block.\n",
        "Example :\n",
        "\n",
        "```\n",
        "try:\n",
        "    age = int(input(\"Enter your age: \"))\n",
        "    print(\"You entered:\", age)\n",
        "except ValueError:\n",
        "    print(\"Invalid input! Please enter an integer value for age.\")\n",
        "\n",
        "```\n",
        "\n",
        "\n",
        "### Extra credit (2 points total): If you write your solutions inside functions, you can earn up to 2 bonus points.\n",
        "\n",
        "Example: instead of just writing the if statement, put it inside a function like def check_value(x, y): ....\n",
        "\n",
        "All code must run.\n",
        "\n",
        "Make sure to execute each cell so it produces correct output.\n",
        "\n",
        "All code must demonstrate testing.\n",
        "\n",
        "After writing your solution, run it with at least one input that shows it works correctly.\n",
        "\n",
        "## Example of code written without using a function\n",
        "\n",
        "```\n",
        "temperature = 75\n",
        "\n",
        "if temperature > 80:\n",
        "    print(\"It is hot outside.\")\n",
        "elif temperature < 60:\n",
        "    print(\"It is cold outside.\")\n",
        "else:\n",
        "    print(\"The weather is mild.\")\n",
        "\n",
        "\n",
        "```\n",
        "\n",
        "Running without a function\n",
        "How to Test:\n",
        "\n",
        "* Run once with temperature = 75 → prints \"The weather is mild.\"\n",
        "* Change to temperature = 85 → prints \"It is hot outside.\"\n",
        "* Change to temperature = 50 → prints \"It is cold outside.\"\n",
        "\n",
        "I can only see the last run that you have performed, so as a comment, please indicate what other tests you have run\n",
        "\n",
        "## Example of code written WITH using a function\n",
        "\n",
        "```\n",
        "def check_weather(temperature):\n",
        "    if temperature > 80:\n",
        "        return \"It is hot outside.\"\n",
        "    elif temperature < 60:\n",
        "        return \"It is cold outside.\"\n",
        "    else:\n",
        "        return \"The weather is mild.\"\n",
        "\n",
        "# Testing the function\n",
        "print(check_weather(75))   # should print \"The weather is mild.\"\n",
        "print(check_weather(85))   # should print \"It is hot outside.\"\n",
        "print(check_weather(50))   # should print \"It is cold outside.\"\n",
        "\n",
        "\n",
        "```\n",
        "\n",
        "Here it is easier to show me the tests that you have run\n",
        "\n",
        "\n",
        "\n",
        "\n",
        "\n",
        "\n",
        "\n",
        "\n",
        "\n",
        "\n",
        "\n",
        "##If Statements"
      ],
      "metadata": {
        "id": "GI0ki5igIQ7M"
      }
    },
    {
      "cell_type": "code",
      "execution_count": 7,
      "metadata": {
        "id": "sZMfxjOp245O",
        "colab": {
          "base_uri": "https://localhost:8080/"
        },
        "outputId": "276ff9c4-e4d9-4965-dd85-be65cd0e306a"
      },
      "outputs": [
        {
          "output_type": "stream",
          "name": "stdout",
          "text": [
            "x is greater than y\n",
            "x is equal to y\n"
          ]
        }
      ],
      "source": [
        "#Exercise 1: What is x relative to y?\n",
        "'''\n",
        "Two variables are named x and y.\n",
        "\n",
        "y has the value 10.\n",
        "\n",
        "x has the value 20.\n",
        "\n",
        "Write an if statement that compares x and y:\n",
        "\n",
        "If x is less than y, print: \"x is less than y\"\n",
        "\n",
        "If x is equal to y, print: \"x is equal to y\"\n",
        "\n",
        "If x is greater than y, print: \"x is greater than y\"\n",
        "\n",
        "Question: What is the result? Explain why this is the output.\n",
        "Please use the a comment within your code to explain the answer\n",
        "'''\n",
        "def check_value(x, y):\n",
        "  if x < y:\n",
        "    print('x is less than y')\n",
        "  elif x > y:\n",
        "    print('x is greater than y')\n",
        "  else:\n",
        "    print('x is equal to y')\n",
        "\n",
        "#The result is that the code prints \"x is greater than y\", because it goes through the if-statement and finds the elif to be true, and prints that result.\n",
        "check_value(20,10)\n",
        "\n",
        "#The result is that the code prints \"x is equal to y\", because it goes through the if-statement and finds neither the if nor the elif to be true, so it does the third option, which means they are equal.\n",
        "check_value(5,5)\n",
        "\n"
      ]
    },
    {
      "cell_type": "code",
      "source": [
        "# Exercise 2 is x odd or even\n",
        "'''\n",
        "We will test whether the variable x (from the previous example) is even or odd.\n",
        "(If you have run Exercise 1 first, Jupyter will remember that x = 20.)\n",
        "\n",
        "If x is even, print:\n",
        "\"x is even\"\n",
        "\n",
        "Otherwise, print:\n",
        "\"x is odd\"\n",
        "\n",
        "Question: What is the result? Explain why this is the output.\n",
        "'''\n",
        "\n",
        "def is_even(x):\n",
        "  if x % 2 == 0:\n",
        "    print(f'{x} is even')\n",
        "  else:\n",
        "    print(f'{x} is odd')\n",
        "\n",
        "#this will return that x is even because the remainder is zero when it is divided by 2, indicating an even number\n",
        "is_even(4)\n",
        "#this will return that x is odd because the remainder is not zero when it is divided by 2, indicating an odd number\n",
        "is_even(7)"
      ],
      "metadata": {
        "id": "BeCUQ4HkJEPw",
        "colab": {
          "base_uri": "https://localhost:8080/"
        },
        "outputId": "4c9403ba-7e28-460f-d1a8-1a80e58722a4"
      },
      "execution_count": 9,
      "outputs": [
        {
          "output_type": "stream",
          "name": "stdout",
          "text": [
            "4 is even\n",
            "7 is odd\n"
          ]
        }
      ]
    },
    {
      "cell_type": "code",
      "source": [
        "# Exercise 3 polynomials\n",
        "#\n",
        "#  2 factors, when multiplied together, can produce a binomial\n",
        "#  Given a sequence of :  (x + a) * (x + b) where a and b are integers\n",
        "#  we mutiply out the sequence beginning on the right and working left\n",
        "#    x + a\n",
        "# *  x + b\n",
        "#------------------\n",
        "#       xb  +  a*b\n",
        "# x^2 + xa\n",
        "#----------------------\n",
        "# x^2 +(xb+xa) + a*b\n",
        "#\n",
        "#\n",
        "# Note : a and b are integers\n",
        "# x^2 you should read x^2 as x squared\n",
        "# write a program called polynomial that asks the user for numbers a and b\n",
        "# and then computes and prints the binomial\n",
        "# example : (x +2 ) * (x + 3) = x^2 + 5x + 6\n",
        "def compute_binomial():\n",
        "  #take in 2 numbers from user, make sure they are integers\n",
        "  try:\n",
        "    a = int(input(\"Enter number a: \"))\n",
        "    b = int(input(\"Enter number b: \"))\n",
        "\n",
        "  except ValueError:\n",
        "    print('Invalid input. Please enter an integer.')\n",
        "\n",
        "#find the product of a and b\n",
        "  product = a * b\n",
        "#add a and b\n",
        "  addition = a + b\n",
        "#create a string with the 2 factors\n",
        "  factors = f'(x + {a}) * (x + {b}) = '\n",
        "#create a string with the factored form\n",
        "  binomial = f'x^2 + {addition}x + {product}'\n",
        "#create a string with the whole equation\n",
        "  equation = factors + binomial\n",
        "#return the string\n",
        "  return equation\n",
        "\n",
        "#call the function compute_domain to test it\n",
        "print(compute_binomial())\n",
        "\n",
        "\n"
      ],
      "metadata": {
        "id": "kT86D9sNJsRk",
        "colab": {
          "base_uri": "https://localhost:8080/"
        },
        "outputId": "779ba293-50c1-426d-be9d-121c56782029"
      },
      "execution_count": 24,
      "outputs": [
        {
          "output_type": "stream",
          "name": "stdout",
          "text": [
            "Enter number a: 2\n",
            "Enter number b: 3\n",
            "(x + 2) * (x + 3) = x^2 + 5x + 6\n"
          ]
        }
      ]
    },
    {
      "cell_type": "code",
      "source": [
        "# Exercise 4: Analyze the polynomial\n",
        "# Given integers a and b, expand (x + a)(x + b) into x^2 + (xb + xa)+ ab\n",
        "# Then analyze whether the middle term (xb + xa) and constant (ab) are positive, negative, or zero.\n",
        "def analyze_polynomial(a, b):\n",
        "  #find the product of a and b\n",
        "  constant = a * b\n",
        "  #add a and b\n",
        "  middle_term = a + b\n",
        "  #create a string with the 2 factors\n",
        "  factors = f'(x + {a}) * (x + {b}) = '\n",
        "  #create a string with the factored form\n",
        "  binomial = f'x^2 + {middle_term}x + {constant}'\n",
        "  #create a string with the whole equation\n",
        "  equation = factors + binomial\n",
        "  print(equation)\n",
        "  if middle_term  > 0:\n",
        "      print('The middle term is positive')\n",
        "  elif middle_term < 0:\n",
        "      print('The middle term is negative')\n",
        "  else:\n",
        "      print('The middle term is zero')\n",
        "\n",
        "  if constant  > 0:\n",
        "      print('The constant is positive')\n",
        "  elif constant < 0:\n",
        "      print('The constant is negative')\n",
        "  else:\n",
        "      print('The constant is zero')\n",
        "\n",
        "\n",
        "analyze_polynomial(2, 3)\n",
        "analyze_polynomial(-2,6)\n",
        "analyze_polynomial(5,-5)"
      ],
      "metadata": {
        "id": "DlpmPDRsMnnV",
        "colab": {
          "base_uri": "https://localhost:8080/"
        },
        "outputId": "7ed01e49-8477-4c0b-c5f6-00dcf9fac38d"
      },
      "execution_count": 44,
      "outputs": [
        {
          "output_type": "stream",
          "name": "stdout",
          "text": [
            "(x + 2) * (x + 3) = x^2 + 5x + 6\n",
            "The middle term is positive\n",
            "The constant is positive\n",
            "(x + -2) * (x + 6) = x^2 + 4x + -12\n",
            "The middle term is positive\n",
            "The constant is negative\n",
            "(x + 5) * (x + -5) = x^2 + 0x + -25\n",
            "The middle term is zero\n",
            "The constant is negative\n"
          ]
        }
      ]
    },
    {
      "cell_type": "code",
      "source": [
        "# @title\n",
        "# Exercise 5 : exploration of the and statement\n",
        "# ask the user to provide an integer for val1 and val2\n",
        "# if both values are positive write : val1 and val2 are positive , print the values\n",
        "# if both values are negative write : val1 and val2 are negative , print the values\n",
        "# otherwise write : at least one value is zero, print the values\n",
        "def check_values():\n",
        "   try:\n",
        "      val1 = int(input(\"Enter val1: \"))\n",
        "      val2 = int(input(\"Enter val2: \"))\n",
        "\n",
        "  except ValueError:\n",
        "    print('Invalid input. Please enter an integer.')\n",
        "\n",
        "  if val1 > 0 and val2 > 0:\n",
        "    print(f'{val1} and {val2} are both positive')\n",
        "  elif val2 < 0 and val1 < 0:\n",
        "\n",
        "\n",
        "\n",
        "check_values()"
      ],
      "metadata": {
        "id": "juhk5N70N7KM"
      },
      "execution_count": null,
      "outputs": []
    },
    {
      "cell_type": "code",
      "source": [
        "# Exercise 6 : explore the or statement\n",
        "# ask the user to provide an integer for val1 and val2\n",
        "# if val1 or val2 is positive write : at least one value is positive, print the values\n",
        "# if va1 or val2 are equal to zero  : at least one value is zero,  print the values\n",
        "# otherwise write : at least one value is negative"
      ],
      "metadata": {
        "id": "bBAEnkmBPcou"
      },
      "execution_count": null,
      "outputs": []
    },
    {
      "cell_type": "code",
      "source": [
        "# Exercise 7 : explore not\n",
        "# a = True\n",
        "# b = True\n",
        "# c = False\n",
        "#\n",
        "# Evaluate and print the results of these expressions:\n",
        "## 1. not (a and b)\n",
        "\n",
        "# 2. not a or not c\n",
        "\n",
        "# 3. not ((a and c) and b)"
      ],
      "metadata": {
        "id": "1us6fv_vQKF5"
      },
      "execution_count": null,
      "outputs": []
    },
    {
      "cell_type": "code",
      "source": [
        "# Exercise 8 :  Voting Age and Citizenship\n",
        "# Ask the user for their age and whether they are a citizen (yes or no).\n",
        "# If they are 18 or older and a citizen, print \"You are eligible to vote.\"\n",
        "# If they are under 18 or not a citizen, print \"You are not eligible to vote.\"\n",
        "# (Hint: use and for the requirements, not for negation.)"
      ],
      "metadata": {
        "id": "CWxkHQsiRDWI"
      },
      "execution_count": null,
      "outputs": []
    },
    {
      "cell_type": "code",
      "source": [
        "# Exercise 9 : Number Classification\n",
        "# ask the user for an integer.\n",
        "# If it is positive and even, print \"Positive even number.\"\n",
        "# If it is positive and odd, print \"Positive odd number.\"\n",
        "# If it is negative or zero, print \"Not a positive number.\"\n",
        "# (Hint: combine and and or.)"
      ],
      "metadata": {
        "id": "9Ou-2OWSRUVe"
      },
      "execution_count": null,
      "outputs": []
    },
    {
      "cell_type": "code",
      "source": [
        "# Exercise 10: Triangle Check\n",
        "# Ask the user for three side lengths (a, b, c).\n",
        "# If all sides are greater than 0, and a+b > c, a+c > b, and b+c > a, then print \"Valid triangle.\"\n",
        "# Otherwise, print \"Not a valid triangle.\"\n",
        "# (Hint: chain multiple and conditions.)"
      ],
      "metadata": {
        "id": "i_BWEaxTRocI"
      },
      "execution_count": null,
      "outputs": []
    },
    {
      "cell_type": "code",
      "source": [
        "# Exercise 11 : Weekend Plan Decision Tree\n",
        "# ask the user two questions:\n",
        "# Is it the weekend? (yes or no)\n",
        "# Do you have homework? (yes or no)\n",
        "# Then, build a decision tree:\n",
        "# If it’s the weekend and you have no homework → \"Go have fun!\"\n",
        "# If it’s the weekend and you have homework → \"Do your homework first, then relax.\"\n",
        "# If it’s not the weekend and you have homework → \"Focus on schoolwork.\"\n",
        "# If it’s not the weekend and no homework → \"It’s a regular day, keep learning!\"\n",
        "#\n",
        "# View of decision tree logic\n"
      ],
      "metadata": {
        "id": "Xu0-taSDSB2Y"
      },
      "execution_count": null,
      "outputs": []
    },
    {
      "cell_type": "code",
      "source": [],
      "metadata": {
        "id": "mrPDyejkSgf5"
      },
      "execution_count": null,
      "outputs": []
    },
    {
      "cell_type": "markdown",
      "source": [
        "View of decision tree for exercise 10\n",
        "\n",
        "# ![weekend diagram.jpeg](data:image/jpeg;base64,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)"
      ],
      "metadata": {
        "id": "gDbbCLswUsgG"
      }
    }
  ]
}