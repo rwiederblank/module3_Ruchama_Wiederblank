{
  "cells": [
    {
      "cell_type": "markdown",
      "metadata": {
        "id": "view-in-github",
        "colab_type": "text"
      },
      "source": [
        "<a href=\"https://colab.research.google.com/github/rwiederblank/module3_Ruchama_Wiederblank/blob/main/MCON141_Class3_Quiz_30min.ipynb\" target=\"_parent\"><img src=\"https://colab.research.google.com/assets/colab-badge.svg\" alt=\"Open In Colab\"/></a>"
      ]
    },
    {
      "cell_type": "markdown",
      "id": "d4f532fd",
      "metadata": {
        "id": "d4f532fd"
      },
      "source": [
        "\n",
        "# MCON 141 — Class 3 **30‑Minute Programming Quiz** (Logic-Heavy)\n",
        "\n",
        "**Focus:** decision structures and boolean logic (`and`, `or`, `not`), nested `if`, `if‑elif‑else`, input validation.  \n",
        "**Explicitly excluded:** functions, `if __name__ == \"__main__\":`\n",
        "\n",
        "**Academic Honesty Attestation**  \n",
        "Because I wanted to give you an exam that allows you to use the Python programming environment, I am not able to place this exam within LockDown Browser. For this reason, I ask you to **attest** that you did not use any support on this exam (no AI assistants, no collaboration, no external code).\n",
        "\n",
        "In the cell below, type exactly:\n",
        "```\n",
        "I attest that I worked alone without outside assistance.\n",
        "```\n"
      ]
    },
    {
      "cell_type": "code",
      "execution_count": 1,
      "id": "2cbce49f",
      "metadata": {
        "colab": {
          "base_uri": "https://localhost:8080/"
        },
        "id": "2cbce49f",
        "outputId": "ee59d674-37f2-41fd-d0f3-071bbf06342e"
      },
      "outputs": [
        {
          "output_type": "stream",
          "name": "stdout",
          "text": [
            "I attest that I worked alone without outside assistance.\n"
          ]
        }
      ],
      "source": [
        "\n",
        "# Type your attestation exactly as requested on a single print line:\n",
        "# Example:\n",
        "print(\"I attest that I worked alone without outside assistance.\")\n"
      ]
    },
    {
      "cell_type": "markdown",
      "id": "5002e392",
      "metadata": {
        "id": "5002e392"
      },
      "source": [
        "\n",
        "---\n",
        "\n",
        "## IMPORTANT RULES (Read before starting)\n",
        "- **Do not** define functions; write straight-line code in each cell.\n",
        "- For **any invalid input or out-of-range values**, you **must** use `try`, `raise` (when appropriate), and `except`:\n",
        "  - Use `ValueError` for non-numeric inputs or invalid options (e.g., not one of `y/n`, not one of `red/yellow/green`).\n",
        "  - Use `ValueError` when a numeric value is outside the required range.\n",
        "- Normalize option inputs with `.strip().lower()` as specified (this removes extra spaces and puts all words into lowercase letters)\n",
        "- Use clear boolean logic with `and` / `or` / `not` where required.\n",
        "- Keep outputs visible for grading.\n",
        "- This environment is deliberately given to you so that you can debug your code, please use this feature, it is the purpose giving you the exam in this format.\n"
      ]
    },
    {
      "cell_type": "markdown",
      "id": "113c937c",
      "metadata": {
        "id": "113c937c"
      },
      "source": [
        "\n",
        "## 1) Leap year logic (`and`/`or`/`not`) — **with validation**\n",
        "\n",
        "**Prompt**\n",
        "- Ask for **year** (an integer **>= 1**).\n",
        "- A year is a leap year if it is divisible by 4 **and** not divisible by 100, **or** it is divisible by 400.\n",
        "\n",
        "**Requirements**\n",
        "- Validate input:\n",
        "  - If the value is not an integer → handle with `except ValueError`.\n",
        "  - If the integer is **< 1** → `raise ValueError(\"Year must be >= 1.\")` and handle it.\n",
        "- Print exactly `\"Leap year\"` or `\"Not a leap year\"` when valid.\n"
      ]
    },
    {
      "cell_type": "code",
      "execution_count": 7,
      "id": "d0ca7ece",
      "metadata": {
        "colab": {
          "base_uri": "https://localhost:8080/"
        },
        "id": "d0ca7ece",
        "outputId": "ab7aa8c3-a869-4cec-b600-5fa8c02b73ee"
      },
      "outputs": [
        {
          "output_type": "stream",
          "name": "stdout",
          "text": [
            "Enter a year: 2345\n",
            "Not a leap year\n"
          ]
        }
      ],
      "source": [
        "\n",
        "# YOUR CODE HERE\n",
        "# Implement: input -> int year, validate (>=1), compute leap, print result.\n",
        "# Use try/raise/except with ValueError as specified.\n",
        "\n",
        "# Write code below:\n",
        "try:\n",
        "  year = int(input(\"Enter a year: \"))\n",
        "  if year == 0:\n",
        "    raise ValueError\n",
        "\n",
        "  if year % 4 == 0 and year % 100 != 0:\n",
        "    print ('Leap year')\n",
        "  else:\n",
        "    print('Not a leap year')\n",
        "\n",
        "except ValueError:\n",
        "  print('Invalid input. Must enter an integer greater than 0')\n",
        "\n",
        "\n"
      ]
    },
    {
      "cell_type": "markdown",
      "id": "6c9922fe",
      "metadata": {
        "id": "6c9922fe"
      },
      "source": [
        "\n",
        "## 2) Traffic light + pedestrian button (nested `if`) — **with validation**\n",
        "\n",
        "**Prompt**\n",
        "- Ask for **light** (`\"red\"`, `\"yellow\"`, `\"green\"`) and **button** (`\"y\"`/`\"n\"`). Normalize to lowercase with `.strip().lower()`.\n",
        "\n",
        "**Rules to decide what to print**  \n",
        "- If `light == \"green\"`:\n",
        "  - If `button == \"y\"` → print `\"Walk\"`\n",
        "  - If `button == \"n\"` → print `\"Wait\"`\n",
        "- If `light == \"yellow\"` → print `\"Wait\"` (ignore button)\n",
        "- If `light == \"red\"` → print `\"Don't walk\"` (ignore button)\n",
        "\n",
        "**Requirements**\n",
        "- Validate both inputs:\n",
        "  - If `light` is not one of the three allowed words → `raise ValueError(\"light must be red/yellow/green\")` and handle it.\n",
        "  - If `button` is not `\"y\"` or `\"n\"` → `raise ValueError(\"button must be y/n\")` and handle it.\n",
        "- Use a **nested `if` inside the green branch**.\n"
      ]
    },
    {
      "cell_type": "code",
      "execution_count": null,
      "id": "6e43563f",
      "metadata": {
        "id": "6e43563f"
      },
      "outputs": [],
      "source": [
        "\n",
        "# YOUR CODE HERE\n",
        "# Implement: read light, button; validate via try/raise/except (ValueError);\n",
        "# then apply the rules with nested if for green.\n",
        "\n",
        "# Write code below:\n",
        "try:\n",
        "  light = input('Enter a light color: (red / yellow / green)').strip().lower()\n",
        "  button = input('Button? (y /n)')\n",
        "\n",
        "\n",
        "  '''\n",
        "  if light != 'red' or light != 'yellow' or light != 'green':\n",
        "    print('light must be red/yellow/green')\n",
        "    raise ValueError\n",
        "  if button != 'y' or button != 'n':\n",
        "    print('button must be y/n')\n",
        "    raise ValueError\n",
        "  '''\n",
        "\n",
        "  if light == 'green':\n",
        "    if button == 'y':\n",
        "      print('Walk')\n",
        "    elif button == 'n':\n",
        "      print('Wait')\n",
        "  elif light == 'yellow':\n",
        "    print('Wait')\n",
        "  elif light == 'red':\n",
        "    print(\"Don't walk\")\n",
        "\n",
        "except ValueError:\n",
        "  print('Invalid input.')"
      ]
    },
    {
      "cell_type": "markdown",
      "id": "b6838f39",
      "metadata": {
        "id": "b6838f39"
      },
      "source": [
        "\n",
        "## 3) Exam eligibility (`and`/`or`) — **with validation**\n",
        "\n",
        "**Prompt**\n",
        "- Ask for **attendance_percent** (int, range **0–100**), **integrity_flag** (`\"y\"` if there was any integrity issue, otherwise `\"n\"`), and **makeup_request** (`\"y\"`/`\"n\"`). Normalize option inputs.\n",
        "\n",
        "**Eligibility rule**\n",
        "- `\"Eligible\"` if\n",
        "  - `attendance_percent >= 75 and integrity_flag == \"n\"` **or**\n",
        "  - `attendance_percent >= 60 and makeup_request == \"y\" and integrity_flag == \"n\"`  \n",
        "- Otherwise `\"Not eligible\"`.\n",
        "\n",
        "**Requirements**\n",
        "- Validate input:\n",
        "  - Non-integer attendance → handle with `except ValueError`.\n",
        "  - If attendance is **outside 0–100** → `raise ValueError(\"attendance_percent must be between 0 and 100.\")` and handle it.\n",
        "  - If any option is not `y/n` → `raise ValueError(\"expected y/n\")` and handle it.\n"
      ]
    },
    {
      "cell_type": "code",
      "execution_count": 30,
      "id": "1cc5f124",
      "metadata": {
        "colab": {
          "base_uri": "https://localhost:8080/"
        },
        "id": "1cc5f124",
        "outputId": "5e28b5b3-1d2c-4742-d701-9fe296220614"
      },
      "outputs": [
        {
          "output_type": "stream",
          "name": "stdout",
          "text": [
            "Enter percentage: 90\n",
            "Integrity issue? (y/n)y\n",
            "Makeup request? (y/n)n\n",
            "Invalid input\n"
          ]
        }
      ],
      "source": [
        "\n",
        "# YOUR CODE HERE\n",
        "# Implement: read and validate inputs; compute eligibility using the rule above; print \"Eligible\" or \"Not eligible\".\n",
        "# Use try/raise/except with ValueError as specified.\n",
        "\n",
        "# Write code below:\n",
        "try:\n",
        "  attendance_percent = int(input('Enter percentage: '))\n",
        "  integrity_flag = input('Integrity issue? (y/n)')\n",
        "  makeupe_request = input('Makeup request? (y/n)')\n",
        "\n",
        "  if attendance_percent < 0 or attendance_percent > 100:\n",
        "    print('attendance_percent must be between 0 and 100.')\n",
        "    raise ValueError\n",
        "  if integrity_flag != 'y' or integrity_flag != 'n':\n",
        "    raise ValueError(\"expected y/n\")\n",
        "  if makeup_request != 'y' or makeup_request != 'n':\n",
        "    raise ValueError(\"expected y/n\")\n",
        "\n",
        "  if attendance_percent >= 75 and integrity_flag == \"n\" or attendance_percent >= 60 and makeup_request == \"y\" and integrity_flag == \"n\":\n",
        "    print('Elligable')\n",
        "  else:\n",
        "    print('Not elligable')\n",
        "\n",
        "except ValueError:\n",
        "  print('Invalid input')\n",
        "\n",
        "\n"
      ]
    },
    {
      "cell_type": "markdown",
      "id": "d3f90474",
      "metadata": {
        "id": "d3f90474"
      },
      "source": [
        "\n",
        "## 4) Coupon stacking rules (mutually exclusive conditions) — **with validation**\n",
        "\n",
        "**Prompt**\n",
        "- Ask for **cart_total** (float, **>= 0**), **coupon10** (`\"y\"/\"n\"`), **coupon15** (`\"y\"/\"n\"`). Normalize options.\n",
        "\n",
        "**Rules**\n",
        "- If both coupons are `\"y\"` → print `\"Invalid: cannot stack\"`.\n",
        "- Else if only `coupon15 == \"y\"` **and** `cart_total >= 80` → `\"15% applied\"`.\n",
        "- Else if only `coupon10 == \"y\"` **and** `cart_total >= 50` → `\"10% applied\"`.\n",
        "- Else → `\"No discount\"`.\n",
        "\n",
        "**Requirements**\n",
        "- Validate input:\n",
        "  - Non-numeric total → handle with `except ValueError`.\n",
        "  - If `cart_total < 0` → `raise ValueError(\"cart_total must be >= 0.\")` and handle it.\n",
        "  - If any coupon option not `y/n` → `raise ValueError(\"expected y/n\")` and handle it.\n"
      ]
    },
    {
      "cell_type": "code",
      "execution_count": null,
      "id": "75e8c4e6",
      "metadata": {
        "id": "75e8c4e6"
      },
      "outputs": [],
      "source": [
        "\n",
        "# YOUR CODE HERE\n",
        "# Implement: read/validate; apply rules; print exactly one of the specified outputs.\n",
        "# Use try/raise/except with ValueError as specified.\n",
        "\n",
        "# Write code below:\n"
      ]
    },
    {
      "cell_type": "markdown",
      "id": "6862f2be",
      "metadata": {
        "id": "6862f2be"
      },
      "source": [
        "\n",
        "## 5) ID policy — De Morgan practice (`or` and `not`) — **with validation**\n",
        "\n",
        "**Prompt**\n",
        "- Ask for **has_photo_id** (`\"y\"/\"n\"`) and **has_student_card** (`\"y\"/\"n\"`). Normalize options.\n",
        "\n",
        "**Rule**\n",
        "- Entry is permitted if the person has **photo ID** **or** has a **student card**.\n",
        "\n",
        "**Requirements**\n",
        "- Validate inputs:\n",
        "  - If either input is not `y/n` → `raise ValueError(\"expected y/n\")` and handle it.\n",
        "- Implement **two checks** (print both results on separate lines):\n",
        "  1) Using `or` directly (`\"Entry permitted\"` / `\"Entry denied\"`).  \n",
        "  2) Using `not` with De Morgan’s law to express the same rule.\n",
        "- Both lines of output should match.\n"
      ]
    },
    {
      "cell_type": "code",
      "execution_count": null,
      "id": "54e0b13e",
      "metadata": {
        "id": "54e0b13e"
      },
      "outputs": [],
      "source": [
        "\n",
        "# YOUR CODE HERE\n",
        "# Implement: read/validate; print result twice:\n",
        "# (1) direct OR version; (2) logically equivalent NOT/De Morgan version.\n",
        "# Use try/raise/except with ValueError as specified.\n",
        "\n",
        "# Write code below:\n"
      ]
    },
    {
      "cell_type": "markdown",
      "id": "04442209",
      "metadata": {
        "id": "04442209"
      },
      "source": [
        "\n",
        "---\n",
        "\n",
        "### Submission Notes\n",
        "- Leave all outputs visible.\n",
        "- If you re-run a cell, it will re-prompt; that's fine.\n",
        "- Make sure your error messages match the prompts where specified.\n"
      ]
    }
  ],
  "metadata": {
    "kernelspec": {
      "display_name": "Python 3",
      "language": "python",
      "name": "python3"
    },
    "language_info": {
      "name": "python",
      "version": "3.x"
    },
    "colab": {
      "provenance": [],
      "include_colab_link": true
    }
  },
  "nbformat": 4,
  "nbformat_minor": 5
}